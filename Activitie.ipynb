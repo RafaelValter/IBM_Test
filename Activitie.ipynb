{
 "cells": [
  {
   "cell_type": "markdown",
   "metadata": {},
   "source": [
    "<center><h1>My Jupyter Notebook on IBM Watson Studio</h1></center>"
   ]
  },
  {
   "cell_type": "markdown",
   "metadata": {},
   "source": [
    "**Rafael Valter**  \n",
    "Mechanical Engineer "
   ]
  },
  {
   "cell_type": "markdown",
   "metadata": {},
   "source": [
    "*I am interested in data science because it's an area with a lot of opportunities.*  \n",
    "*I am interested in data science because it's an area that amazes me.*"
   ]
  },
  {
   "cell_type": "markdown",
   "metadata": {},
   "source": [
    "<h3> My code is supposed to do the sum of 10+20 and print the result </h3>"
   ]
  },
  {
   "cell_type": "code",
   "execution_count": 9,
   "metadata": {},
   "outputs": [
    {
     "name": "stdout",
     "output_type": "stream",
     "text": [
      "The result of 10+20 is 30\n"
     ]
    }
   ],
   "source": [
    "sum=10+20\n",
    "\n",
    "print('The result of 10+20 is {}'.format(sum))"
   ]
  },
  {
   "cell_type": "markdown",
   "metadata": {},
   "source": [
    "> It's and blocked quote with 2 lists (bullet list and numbered list)\n",
    ">\n",
    "> - Item 1 bullet list\n",
    "> - Item 2 bullet list\n",
    ">\n",
    "> 1. First item numbered list\n",
    "> 2. Second item numbered list"
   ]
  }
 ],
 "metadata": {
  "kernelspec": {
   "display_name": "Python 3",
   "language": "python",
   "name": "python3"
  },
  "language_info": {
   "codemirror_mode": {
    "name": "ipython",
    "version": 3
   },
   "file_extension": ".py",
   "mimetype": "text/x-python",
   "name": "python",
   "nbconvert_exporter": "python",
   "pygments_lexer": "ipython3",
   "version": "3.8.3"
  }
 },
 "nbformat": 4,
 "nbformat_minor": 4
}
